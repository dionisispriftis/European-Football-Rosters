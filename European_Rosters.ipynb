{
 "cells": [
  {
   "cell_type": "code",
   "execution_count": 1,
   "metadata": {},
   "outputs": [],
   "source": [
    "import pandas as pd\n",
    "import numpy as np\n",
    "import seaborn as sns\n",
    "import matplotlib.pyplot as plt"
   ]
  },
  {
   "cell_type": "markdown",
   "metadata": {},
   "source": [
    "#### The dataset I used in the current project is acquired from the Kaggle website "
   ]
  },
  {
   "cell_type": "code",
   "execution_count": 2,
   "metadata": {},
   "outputs": [],
   "source": [
    "path = 'data\\European_Rosters.csv'\n",
    "df = pd.read_csv(path)\n",
    "data = df.copy()"
   ]
  },
  {
   "cell_type": "markdown",
   "metadata": {},
   "source": [
    "#### The first step in the project was to clean our data from outliers, duplicates and missing values. In general, the most common problem was the missing values which was settled in many different ways. After that we made some hypothesis about our data and explored one of them for it’s significance."
   ]
  },
  {
   "cell_type": "code",
   "execution_count": 3,
   "metadata": {},
   "outputs": [
    {
     "data": {
      "text/html": [
       "<div>\n",
       "<style scoped>\n",
       "    .dataframe tbody tr th:only-of-type {\n",
       "        vertical-align: middle;\n",
       "    }\n",
       "\n",
       "    .dataframe tbody tr th {\n",
       "        vertical-align: top;\n",
       "    }\n",
       "\n",
       "    .dataframe thead th {\n",
       "        text-align: right;\n",
       "    }\n",
       "</style>\n",
       "<table border=\"1\" class=\"dataframe\">\n",
       "  <thead>\n",
       "    <tr style=\"text-align: right;\">\n",
       "      <th></th>\n",
       "      <th>FullName</th>\n",
       "      <th>PlayerName</th>\n",
       "      <th>Affiliation</th>\n",
       "      <th>League</th>\n",
       "      <th>Jersey</th>\n",
       "      <th>Birth Date</th>\n",
       "      <th>Age</th>\n",
       "      <th>birthPlace</th>\n",
       "      <th>Height (meters)</th>\n",
       "      <th>Citizenship 1</th>\n",
       "      <th>...</th>\n",
       "      <th>Youth Club 7</th>\n",
       "      <th>nationality</th>\n",
       "      <th>Games Played</th>\n",
       "      <th>Market Value (Euros)</th>\n",
       "      <th>Last Updated Date</th>\n",
       "      <th>Accumulated Transfer Sums (Euros)</th>\n",
       "      <th>Highest Market Value (Euros)</th>\n",
       "      <th>Highest Market Value Date</th>\n",
       "      <th>NationalTeamCaps</th>\n",
       "      <th>MostRecentInjury</th>\n",
       "    </tr>\n",
       "  </thead>\n",
       "  <tbody>\n",
       "    <tr>\n",
       "      <th>0</th>\n",
       "      <td>Anthony Mbu Agogo Modeste</td>\n",
       "      <td>Anthony Modeste</td>\n",
       "      <td>1. FC Koln</td>\n",
       "      <td>Bundesliga</td>\n",
       "      <td>#27</td>\n",
       "      <td>4/14/1988</td>\n",
       "      <td>31</td>\n",
       "      <td>Cannes</td>\n",
       "      <td>1.87</td>\n",
       "      <td>France</td>\n",
       "      <td>...</td>\n",
       "      <td>NaN</td>\n",
       "      <td>France</td>\n",
       "      <td>1</td>\n",
       "      <td>7000000.0</td>\n",
       "      <td>Last update: Jun 12, 2019</td>\n",
       "      <td>45700000</td>\n",
       "      <td>20000000.0</td>\n",
       "      <td>6/19/2017</td>\n",
       "      <td>16</td>\n",
       "      <td>NaN</td>\n",
       "    </tr>\n",
       "    <tr>\n",
       "      <th>1</th>\n",
       "      <td>NaN</td>\n",
       "      <td>Benno Schmitz</td>\n",
       "      <td>1. FC Koln</td>\n",
       "      <td>Bundesliga</td>\n",
       "      <td>#2</td>\n",
       "      <td>11/17/1994</td>\n",
       "      <td>25</td>\n",
       "      <td>München</td>\n",
       "      <td>1.82</td>\n",
       "      <td>Germany</td>\n",
       "      <td>...</td>\n",
       "      <td>NaN</td>\n",
       "      <td>Germany</td>\n",
       "      <td>0</td>\n",
       "      <td>1000000.0</td>\n",
       "      <td>Last update: Jun 12, 2019</td>\n",
       "      <td>1000000</td>\n",
       "      <td>1750000.0</td>\n",
       "      <td>3/22/2017</td>\n",
       "      <td>11</td>\n",
       "      <td>NaN</td>\n",
       "    </tr>\n",
       "    <tr>\n",
       "      <th>2</th>\n",
       "      <td>Birger Danny Verstraete</td>\n",
       "      <td>Birger Verstraete</td>\n",
       "      <td>1. FC Koln</td>\n",
       "      <td>Bundesliga</td>\n",
       "      <td>#8</td>\n",
       "      <td>4/16/1994</td>\n",
       "      <td>25</td>\n",
       "      <td>Oostende</td>\n",
       "      <td>1.75</td>\n",
       "      <td>Belgium</td>\n",
       "      <td>...</td>\n",
       "      <td>NaN</td>\n",
       "      <td>Belgium</td>\n",
       "      <td>0</td>\n",
       "      <td>4000000.0</td>\n",
       "      <td>Last update: Jun 10, 2019</td>\n",
       "      <td>4850000</td>\n",
       "      <td>4000000.0</td>\n",
       "      <td>9/11/2018</td>\n",
       "      <td>1</td>\n",
       "      <td>NaN</td>\n",
       "    </tr>\n",
       "    <tr>\n",
       "      <th>3</th>\n",
       "      <td>Brady Canfield Scott</td>\n",
       "      <td>Brady Scott</td>\n",
       "      <td>1. FC Koln</td>\n",
       "      <td>Bundesliga</td>\n",
       "      <td>#31</td>\n",
       "      <td>6/30/1999</td>\n",
       "      <td>20</td>\n",
       "      <td>Petaluma, California</td>\n",
       "      <td>1.87</td>\n",
       "      <td>United States</td>\n",
       "      <td>...</td>\n",
       "      <td>NaN</td>\n",
       "      <td>United States</td>\n",
       "      <td>14</td>\n",
       "      <td>100000.0</td>\n",
       "      <td>Last update: Jun 12, 2019</td>\n",
       "      <td>0</td>\n",
       "      <td>100000.0</td>\n",
       "      <td>8/3/2018</td>\n",
       "      <td>0</td>\n",
       "      <td>NaN</td>\n",
       "    </tr>\n",
       "    <tr>\n",
       "      <th>4</th>\n",
       "      <td>NaN</td>\n",
       "      <td>Christian Clemens</td>\n",
       "      <td>1. FC Koln</td>\n",
       "      <td>Bundesliga</td>\n",
       "      <td>#17</td>\n",
       "      <td>8/4/1991</td>\n",
       "      <td>28</td>\n",
       "      <td>Köln</td>\n",
       "      <td>1.79</td>\n",
       "      <td>Germany</td>\n",
       "      <td>...</td>\n",
       "      <td>NaN</td>\n",
       "      <td>Germany</td>\n",
       "      <td>15</td>\n",
       "      <td>1750000.0</td>\n",
       "      <td>Last update: Jun 12, 2019</td>\n",
       "      <td>7950000</td>\n",
       "      <td>3500000.0</td>\n",
       "      <td>6/29/2013</td>\n",
       "      <td>5</td>\n",
       "      <td>NaN</td>\n",
       "    </tr>\n",
       "  </tbody>\n",
       "</table>\n",
       "<p>5 rows × 35 columns</p>\n",
       "</div>"
      ],
      "text/plain": [
       "                    FullName         PlayerName Affiliation      League  \\\n",
       "0  Anthony Mbu Agogo Modeste    Anthony Modeste  1. FC Koln  Bundesliga   \n",
       "1                        NaN      Benno Schmitz  1. FC Koln  Bundesliga   \n",
       "2    Birger Danny Verstraete  Birger Verstraete  1. FC Koln  Bundesliga   \n",
       "3       Brady Canfield Scott        Brady Scott  1. FC Koln  Bundesliga   \n",
       "4                        NaN  Christian Clemens  1. FC Koln  Bundesliga   \n",
       "\n",
       "  Jersey  Birth Date  Age            birthPlace  Height (meters)  \\\n",
       "0    #27   4/14/1988   31                Cannes             1.87   \n",
       "1     #2  11/17/1994   25               München             1.82   \n",
       "2     #8   4/16/1994   25              Oostende             1.75   \n",
       "3    #31   6/30/1999   20  Petaluma, California             1.87   \n",
       "4    #17    8/4/1991   28                  Köln             1.79   \n",
       "\n",
       "   Citizenship 1  ... Youth Club 7    nationality Games Played  \\\n",
       "0         France  ...          NaN         France            1   \n",
       "1        Germany  ...          NaN        Germany            0   \n",
       "2        Belgium  ...          NaN        Belgium            0   \n",
       "3  United States  ...          NaN  United States           14   \n",
       "4        Germany  ...          NaN        Germany           15   \n",
       "\n",
       "  Market Value (Euros)          Last Updated Date  \\\n",
       "0            7000000.0  Last update: Jun 12, 2019   \n",
       "1            1000000.0  Last update: Jun 12, 2019   \n",
       "2            4000000.0  Last update: Jun 10, 2019   \n",
       "3             100000.0  Last update: Jun 12, 2019   \n",
       "4            1750000.0  Last update: Jun 12, 2019   \n",
       "\n",
       "  Accumulated Transfer Sums (Euros) Highest Market Value (Euros)  \\\n",
       "0                          45700000                   20000000.0   \n",
       "1                           1000000                    1750000.0   \n",
       "2                           4850000                    4000000.0   \n",
       "3                                 0                     100000.0   \n",
       "4                           7950000                    3500000.0   \n",
       "\n",
       "  Highest Market Value Date NationalTeamCaps MostRecentInjury  \n",
       "0                 6/19/2017               16              NaN  \n",
       "1                 3/22/2017               11              NaN  \n",
       "2                 9/11/2018                1              NaN  \n",
       "3                  8/3/2018                0              NaN  \n",
       "4                 6/29/2013                5              NaN  \n",
       "\n",
       "[5 rows x 35 columns]"
      ]
     },
     "execution_count": 3,
     "metadata": {},
     "output_type": "execute_result"
    }
   ],
   "source": [
    "data.head()"
   ]
  },
  {
   "cell_type": "code",
   "execution_count": 4,
   "metadata": {},
   "outputs": [
    {
     "data": {
      "text/plain": [
       "4308"
      ]
     },
     "execution_count": 4,
     "metadata": {},
     "output_type": "execute_result"
    }
   ],
   "source": [
    "data.shape[0]"
   ]
  },
  {
   "cell_type": "markdown",
   "metadata": {},
   "source": [
    "#### As we can see there are null values, many of which will be filled"
   ]
  },
  {
   "cell_type": "code",
   "execution_count": 5,
   "metadata": {},
   "outputs": [
    {
     "name": "stdout",
     "output_type": "stream",
     "text": [
      "<class 'pandas.core.frame.DataFrame'>\n",
      "RangeIndex: 4308 entries, 0 to 4307\n",
      "Data columns (total 35 columns):\n",
      " #   Column                             Non-Null Count  Dtype  \n",
      "---  ------                             --------------  -----  \n",
      " 0   FullName                           2052 non-null   object \n",
      " 1   PlayerName                         4308 non-null   object \n",
      " 2   Affiliation                        4308 non-null   object \n",
      " 3   League                             4308 non-null   object \n",
      " 4   Jersey                             4239 non-null   object \n",
      " 5   Birth Date                         4308 non-null   object \n",
      " 6   Age                                4308 non-null   int64  \n",
      " 7   birthPlace                         4150 non-null   object \n",
      " 8   Height (meters)                    4225 non-null   float64\n",
      " 9   Citizenship 1                      4298 non-null   object \n",
      " 10  Citizenship 2                      742 non-null    object \n",
      " 11  Position                           4240 non-null   object \n",
      " 12  Position 2                         4307 non-null   object \n",
      " 13  Foot                               4098 non-null   object \n",
      " 14  Agent                              3619 non-null   object \n",
      " 15  JoinedClub                         2438 non-null   object \n",
      " 16  LastExtension                      1418 non-null   object \n",
      " 17  ContractExpiration                 3931 non-null   object \n",
      " 18  PlayerSponsor                      966 non-null    object \n",
      " 19  Youth Club 1                       3005 non-null   object \n",
      " 20  Youth Club 2                       1882 non-null   object \n",
      " 21  Youth Club 3                       875 non-null    object \n",
      " 22  Youth Club 4                       309 non-null    object \n",
      " 23  Youth Club 5                       112 non-null    object \n",
      " 24  Youth Club 6                       35 non-null     object \n",
      " 25  Youth Club 7                       8 non-null      object \n",
      " 26  nationality                        4308 non-null   object \n",
      " 27  Games Played                       4308 non-null   int64  \n",
      " 28  Market Value (Euros)               4289 non-null   float64\n",
      " 29  Last Updated Date                  4289 non-null   object \n",
      " 30  Accumulated Transfer Sums (Euros)  4308 non-null   int64  \n",
      " 31  Highest Market Value (Euros)       4091 non-null   float64\n",
      " 32  Highest Market Value Date          4091 non-null   object \n",
      " 33  NationalTeamCaps                   4308 non-null   int64  \n",
      " 34  MostRecentInjury                   471 non-null    object \n",
      "dtypes: float64(3), int64(4), object(28)\n",
      "memory usage: 1.2+ MB\n"
     ]
    }
   ],
   "source": [
    "data.info()"
   ]
  },
  {
   "cell_type": "code",
   "execution_count": 6,
   "metadata": {},
   "outputs": [
    {
     "data": {
      "text/plain": [
       "['FullName',\n",
       " 'PlayerName',\n",
       " 'Affiliation',\n",
       " 'League',\n",
       " 'Jersey',\n",
       " 'Birth Date',\n",
       " 'Age',\n",
       " 'birthPlace',\n",
       " 'Height (meters)',\n",
       " 'Citizenship 1',\n",
       " 'Citizenship 2',\n",
       " 'Position',\n",
       " 'Position 2',\n",
       " 'Foot',\n",
       " 'Agent',\n",
       " 'JoinedClub',\n",
       " 'LastExtension',\n",
       " 'ContractExpiration',\n",
       " 'PlayerSponsor',\n",
       " 'Youth Club 1',\n",
       " 'Youth Club 2',\n",
       " 'Youth Club 3',\n",
       " 'Youth Club 4',\n",
       " 'Youth Club 5',\n",
       " 'Youth Club 6',\n",
       " 'Youth Club 7',\n",
       " 'nationality',\n",
       " 'Games Played',\n",
       " 'Market Value (Euros)',\n",
       " 'Last Updated Date',\n",
       " 'Accumulated Transfer Sums (Euros)',\n",
       " 'Highest Market Value (Euros)',\n",
       " 'Highest Market Value Date',\n",
       " 'NationalTeamCaps',\n",
       " 'MostRecentInjury']"
      ]
     },
     "execution_count": 6,
     "metadata": {},
     "output_type": "execute_result"
    }
   ],
   "source": [
    "data.columns.tolist()"
   ]
  },
  {
   "cell_type": "code",
   "execution_count": 7,
   "metadata": {},
   "outputs": [
    {
     "data": {
      "text/plain": [
       "\"We include players from 9 leagues which were: ['Bundesliga' 'Serie A' 'Eredivisie' 'Premier Liga' 'LaLiga'\\n 'Premier League' 'Liga NOS' 'Jupiler Pro League' 'Ligue 1']\""
      ]
     },
     "execution_count": 7,
     "metadata": {},
     "output_type": "execute_result"
    }
   ],
   "source": [
    "'We include players from {} leagues which were: {}'.format(len(data.League.unique()),data.League.unique())"
   ]
  },
  {
   "cell_type": "markdown",
   "metadata": {},
   "source": [
    "## Data wrangling"
   ]
  },
  {
   "cell_type": "markdown",
   "metadata": {},
   "source": [
    "#### I will create a new column named 'Age of pick', which includes the age when the player signed his biggest contract. I did that simply by subtracting the ‘Highest Market Value Date’ column from the ‘Birth Date’."
   ]
  },
  {
   "cell_type": "code",
   "execution_count": 8,
   "metadata": {},
   "outputs": [],
   "source": [
    "import math\n",
    "\n",
    "data['Highest Market Value Date'] = data['Highest Market Value Date'].replace(math.nan, str(0))"
   ]
  },
  {
   "cell_type": "code",
   "execution_count": 9,
   "metadata": {},
   "outputs": [],
   "source": [
    "ageOfPick = []\n",
    "for i in range(0 , len(data['Birth Date'])):\n",
    "    if(len(data['Highest Market Value Date'][i])>4):\n",
    "        val = int(data['Highest Market Value Date'][i][-4:]) - int(data['Birth Date'][i][-4:])\n",
    "        ageOfPick.append(val)\n",
    "    else: \n",
    "        ageOfPick.append(0)\n",
    "\n",
    "data['Age of pick'] = ageOfPick   "
   ]
  },
  {
   "cell_type": "markdown",
   "metadata": {},
   "source": [
    "### Modify incorrect or missing values (Position, Height, Foot etc)"
   ]
  },
  {
   "cell_type": "markdown",
   "metadata": {},
   "source": [
    "#### Let's fix the data in 'Position' column. "
   ]
  },
  {
   "cell_type": "code",
   "execution_count": 10,
   "metadata": {},
   "outputs": [
    {
     "name": "stdout",
     "output_type": "stream",
     "text": [
      "<class 'pandas.core.frame.DataFrame'>\n",
      "RangeIndex: 4308 entries, 0 to 4307\n",
      "Data columns (total 2 columns):\n",
      " #   Column      Non-Null Count  Dtype \n",
      "---  ------      --------------  ----- \n",
      " 0   Position    4240 non-null   object\n",
      " 1   Position 2  4307 non-null   object\n",
      "dtypes: object(2)\n",
      "memory usage: 67.4+ KB\n"
     ]
    }
   ],
   "source": [
    "data[['Position', 'Position 2']].info()"
   ]
  },
  {
   "cell_type": "code",
   "execution_count": 11,
   "metadata": {},
   "outputs": [],
   "source": [
    "# Replace NaN values with '0'\n",
    "data['Position'].fillna('Unknown', inplace = True)\n",
    "data['Position 2'].fillna('Unknown', inplace = True)"
   ]
  },
  {
   "cell_type": "code",
   "execution_count": 12,
   "metadata": {},
   "outputs": [
    {
     "data": {
      "text/plain": [
       "Defender                                                   1397\n",
       "Midfielder                                                 1179\n",
       "Forward                                                    1112\n",
       "Goalkeeper                                                  474\n",
       "Unknown                                                      68\n",
       "Position:                            Centre                  19\n",
       "Position:                            Goalkeeper              14\n",
       "Position:                            Central Midfield         9\n",
       "Position:                            Right                    9\n",
       "Position:                            Attacking Midfield       6\n",
       "Contract expires:                                             6\n",
       "Position:                            Left                     5\n",
       "Position:                            Left Winger              4\n",
       "Position:                            Right Winger             2\n",
       "Position:                            Defensive Midfield       2\n",
       "Midfielder                                                    1\n",
       "Position:                            Second Striker           1\n",
       "Name: Position, dtype: int64"
      ]
     },
     "execution_count": 12,
     "metadata": {},
     "output_type": "execute_result"
    }
   ],
   "source": [
    "# as we can see there are unnecessary column values which we should replace \n",
    "data['Position'].value_counts()"
   ]
  },
  {
   "cell_type": "code",
   "execution_count": 13,
   "metadata": {},
   "outputs": [],
   "source": [
    "data1 = data.copy()"
   ]
  },
  {
   "cell_type": "code",
   "execution_count": 14,
   "metadata": {},
   "outputs": [],
   "source": [
    "before = ['Position:                            Goalkeeper','Position:                            Central Midfield',\n",
    "         'Position:                            Centre','Position:                            Attacking Midfield',\n",
    "         'Position:                            Second Striker', 'Position:                            Defensive Midfield',\n",
    "         'Position:                            Right Winger', 'Position:                            Left Winger']\n",
    "after = ['Goalkeeper', 'Midfielder','Midfielder', 'Midfielder', 'Forward', 'Midfielder', 'Forward', 'Forward']\n",
    "data1['Position'] = data['Position'].replace(before, after)\n",
    "\n",
    "before = ['Forward ', 'Defender ', 'Midfielder ']\n",
    "after = ['Forward', 'Defender', 'Midfielder']\n",
    "data1['Position'] = data1['Position'].replace(before, after)"
   ]
  },
  {
   "cell_type": "code",
   "execution_count": 15,
   "metadata": {},
   "outputs": [
    {
     "data": {
      "text/plain": [
       "1177    Right-Back\n",
       "1255    Right-Back\n",
       "1279    Right-Back\n",
       "1887    Right-Back\n",
       "2375    Right-Back\n",
       "2577    Right-Back\n",
       "2979    Right-Back\n",
       "3206    Right-Back\n",
       "4015    Right-Back\n",
       "Name: Position 2, dtype: object"
      ]
     },
     "execution_count": 15,
     "metadata": {},
     "output_type": "execute_result"
    }
   ],
   "source": [
    "data1['Position 2'][data1['Position']=='Position:                            Right']"
   ]
  },
  {
   "cell_type": "code",
   "execution_count": 16,
   "metadata": {
    "scrolled": true
   },
   "outputs": [
    {
     "data": {
      "text/plain": [
       "22      Left-Back\n",
       "1493    Left-Back\n",
       "2978    Left-Back\n",
       "3000    Left-Back\n",
       "3394    Left-Back\n",
       "Name: Position 2, dtype: object"
      ]
     },
     "execution_count": 16,
     "metadata": {},
     "output_type": "execute_result"
    }
   ],
   "source": [
    "data1['Position 2'][data1['Position']=='Position:                            Left']"
   ]
  },
  {
   "cell_type": "code",
   "execution_count": 17,
   "metadata": {
    "scrolled": true
   },
   "outputs": [
    {
     "data": {
      "text/plain": [
       "99      Contract expires:-\n",
       "912     Contract expires:-\n",
       "1699    Contract expires:-\n",
       "2870    Contract expires:-\n",
       "3017    Contract expires:-\n",
       "3018    Contract expires:-\n",
       "Name: Position 2, dtype: object"
      ]
     },
     "execution_count": 17,
     "metadata": {},
     "output_type": "execute_result"
    }
   ],
   "source": [
    "data1['Position 2'][data1['Position']=='Contract expires:']"
   ]
  },
  {
   "cell_type": "markdown",
   "metadata": {},
   "source": [
    "#### As we can see those players with position Left or Right were all of them defenders and for the 'Contract expires' values in position column we can't extract more information from 'Position 2' column"
   ]
  },
  {
   "cell_type": "code",
   "execution_count": 18,
   "metadata": {},
   "outputs": [],
   "source": [
    "before = ['Position:                            Right', 'Position:                            Left']\n",
    "after = ['Defender', 'Defender']\n",
    "data1['Position'] = data1['Position'].replace(before, after)"
   ]
  },
  {
   "cell_type": "code",
   "execution_count": 19,
   "metadata": {},
   "outputs": [
    {
     "data": {
      "text/plain": [
       "Contract expires:30.06.2020    18\n",
       "Contract expires:30.06.2022    17\n",
       "Contract expires:30.06.2021    14\n",
       "Contract expires:30.06.2023     9\n",
       "Contract expires:-              8\n",
       "Right-Back                      1\n",
       "Contract expires:30.06.2024     1\n",
       "Name: Position 2, dtype: int64"
      ]
     },
     "execution_count": 19,
     "metadata": {},
     "output_type": "execute_result"
    }
   ],
   "source": [
    "# Also for the NaN values 'Position 2' column doesn't gives us any additional info for the player's position\n",
    "data1['Position 2'][data1['Position']=='Unknown'].value_counts()"
   ]
  },
  {
   "cell_type": "code",
   "execution_count": 20,
   "metadata": {},
   "outputs": [],
   "source": [
    "data1['Position'].replace('Contract expires:', 'Unknown', inplace = True)"
   ]
  },
  {
   "cell_type": "code",
   "execution_count": 21,
   "metadata": {},
   "outputs": [
    {
     "data": {
      "text/plain": [
       "Defender      1411\n",
       "Midfielder    1216\n",
       "Forward       1119\n",
       "Goalkeeper     488\n",
       "Unknown         74\n",
       "Name: Position, dtype: int64"
      ]
     },
     "execution_count": 21,
     "metadata": {},
     "output_type": "execute_result"
    }
   ],
   "source": [
    "# So our final values are \n",
    "\n",
    "data1['Position'].value_counts()"
   ]
  },
  {
   "cell_type": "markdown",
   "metadata": {},
   "source": [
    "#### Now let's fix the data in 'Position 2' column"
   ]
  },
  {
   "cell_type": "code",
   "execution_count": 22,
   "metadata": {},
   "outputs": [
    {
     "data": {
      "text/plain": [
       "Centre-Back                    747\n",
       "Centre-Forward                 528\n",
       "Central Midfield               523\n",
       "Goalkeeper                     490\n",
       "Right-Back                     353\n",
       "Left-Back                      325\n",
       "Defensive Midfield             322\n",
       "Left Winger                    276\n",
       "Right Winger                   276\n",
       "Attacking Midfield             246\n",
       "Second Striker                  50\n",
       "Left Midfield                   48\n",
       "Right Midfield                  39\n",
       "Contract expires:30.06.2020     20\n",
       "Contract expires:30.06.2022     20\n",
       "Contract expires:30.06.2021     15\n",
       "Contract expires:-              15\n",
       "Contract expires:30.06.2023     10\n",
       "Contract expires:30.06.2024      2\n",
       "Midfielder                       1\n",
       "Unknown                          1\n",
       "Contract expires:30.06.2025      1\n",
       "Name: Position 2, dtype: int64"
      ]
     },
     "execution_count": 22,
     "metadata": {},
     "output_type": "execute_result"
    }
   ],
   "source": [
    "data1['Position 2'].value_counts()"
   ]
  },
  {
   "cell_type": "code",
   "execution_count": 23,
   "metadata": {},
   "outputs": [
    {
     "name": "stderr",
     "output_type": "stream",
     "text": [
      "<ipython-input-23-a25e64f75401>:5: SettingWithCopyWarning: \n",
      "A value is trying to be set on a copy of a slice from a DataFrame\n",
      "\n",
      "See the caveats in the documentation: https://pandas.pydata.org/pandas-docs/stable/user_guide/indexing.html#returning-a-view-versus-a-copy\n",
      "  data1['Position 2'][index] = data1['Position'][index]\n"
     ]
    }
   ],
   "source": [
    "# Replace 'Contract expires...' values with whatever is in column 'Position'\n",
    "\n",
    "for index, i in enumerate(data1['Position 2']):\n",
    "    if('Contract' in i):\n",
    "        data1['Position 2'][index] = data1['Position'][index]"
   ]
  },
  {
   "cell_type": "code",
   "execution_count": 24,
   "metadata": {},
   "outputs": [],
   "source": [
    "# Minor changes to the names of the categorical values\n",
    "\n",
    "before = ['Contract expires:', 'Central Midfield','Defensive Midfield','Left Winger','Right Winger','Attacking Midfield','Second Striker','Left Midfield','Right Midfield']\n",
    "after = ['Unknown', 'Central-Midfield','Defensive-Midfield','Left-Winger','Right-Winger','Attacking-Midfield','Second-Striker','Left-Midfield','Right-Midfield']\n",
    "data1['Position 2'].replace(before, after, inplace = True)"
   ]
  },
  {
   "cell_type": "code",
   "execution_count": 25,
   "metadata": {
    "scrolled": true
   },
   "outputs": [
    {
     "data": {
      "text/plain": [
       "Centre-Back           747\n",
       "Centre-Forward        528\n",
       "Central-Midfield      523\n",
       "Goalkeeper            490\n",
       "Right-Back            353\n",
       "Left-Back             325\n",
       "Defensive-Midfield    322\n",
       "Right-Winger          276\n",
       "Left-Winger           276\n",
       "Attacking-Midfield    246\n",
       "Unknown                74\n",
       "Second-Striker         50\n",
       "Left-Midfield          48\n",
       "Right-Midfield         39\n",
       "Midfielder              6\n",
       "Forward                 5\n",
       "Name: Position 2, dtype: int64"
      ]
     },
     "execution_count": 25,
     "metadata": {},
     "output_type": "execute_result"
    }
   ],
   "source": [
    "data1['Position 2'].value_counts()"
   ]
  },
  {
   "cell_type": "markdown",
   "metadata": {},
   "source": [
    "### Conclusion: For 74 players we have no clue for their position and for 11 we know only their general position"
   ]
  },
  {
   "cell_type": "markdown",
   "metadata": {},
   "source": [
    "### Now let's modify the height values"
   ]
  },
  {
   "cell_type": "markdown",
   "metadata": {},
   "source": [
    "#### In the ‘Height’ column we had 83 missing values and I though that the best way to fill these values was to replace them by the average height of the players in the same position and nationality."
   ]
  },
  {
   "cell_type": "code",
   "execution_count": 26,
   "metadata": {},
   "outputs": [
    {
     "data": {
      "text/html": [
       "<div>\n",
       "<style scoped>\n",
       "    .dataframe tbody tr th:only-of-type {\n",
       "        vertical-align: middle;\n",
       "    }\n",
       "\n",
       "    .dataframe tbody tr th {\n",
       "        vertical-align: top;\n",
       "    }\n",
       "\n",
       "    .dataframe thead tr th {\n",
       "        text-align: left;\n",
       "    }\n",
       "\n",
       "    .dataframe thead tr:last-of-type th {\n",
       "        text-align: right;\n",
       "    }\n",
       "</style>\n",
       "<table border=\"1\" class=\"dataframe\">\n",
       "  <thead>\n",
       "    <tr>\n",
       "      <th></th>\n",
       "      <th></th>\n",
       "      <th colspan=\"2\" halign=\"left\">Height (meters)</th>\n",
       "    </tr>\n",
       "    <tr>\n",
       "      <th></th>\n",
       "      <th></th>\n",
       "      <th>mean</th>\n",
       "      <th>count</th>\n",
       "    </tr>\n",
       "    <tr>\n",
       "      <th>nationality</th>\n",
       "      <th>Position</th>\n",
       "      <th></th>\n",
       "      <th></th>\n",
       "    </tr>\n",
       "  </thead>\n",
       "  <tbody>\n",
       "    <tr>\n",
       "      <th rowspan=\"4\" valign=\"top\">Albania</th>\n",
       "      <th>Defender</th>\n",
       "      <td>1.877500</td>\n",
       "      <td>4</td>\n",
       "    </tr>\n",
       "    <tr>\n",
       "      <th>Forward</th>\n",
       "      <td>1.895000</td>\n",
       "      <td>2</td>\n",
       "    </tr>\n",
       "    <tr>\n",
       "      <th>Goalkeeper</th>\n",
       "      <td>1.935000</td>\n",
       "      <td>2</td>\n",
       "    </tr>\n",
       "    <tr>\n",
       "      <th>Midfielder</th>\n",
       "      <td>1.827500</td>\n",
       "      <td>4</td>\n",
       "    </tr>\n",
       "    <tr>\n",
       "      <th>Algeria</th>\n",
       "      <th>Defender</th>\n",
       "      <td>1.803333</td>\n",
       "      <td>6</td>\n",
       "    </tr>\n",
       "    <tr>\n",
       "      <th>...</th>\n",
       "      <th>...</th>\n",
       "      <td>...</td>\n",
       "      <td>...</td>\n",
       "    </tr>\n",
       "    <tr>\n",
       "      <th rowspan=\"2\" valign=\"top\">Zambia</th>\n",
       "      <th>Forward</th>\n",
       "      <td>1.745000</td>\n",
       "      <td>2</td>\n",
       "    </tr>\n",
       "    <tr>\n",
       "      <th>Midfielder</th>\n",
       "      <td>1.650000</td>\n",
       "      <td>1</td>\n",
       "    </tr>\n",
       "    <tr>\n",
       "      <th rowspan=\"3\" valign=\"top\">Zimbabwe</th>\n",
       "      <th>Defender</th>\n",
       "      <td>1.870000</td>\n",
       "      <td>1</td>\n",
       "    </tr>\n",
       "    <tr>\n",
       "      <th>Forward</th>\n",
       "      <td>1.770000</td>\n",
       "      <td>1</td>\n",
       "    </tr>\n",
       "    <tr>\n",
       "      <th>Midfielder</th>\n",
       "      <td>1.770000</td>\n",
       "      <td>1</td>\n",
       "    </tr>\n",
       "  </tbody>\n",
       "</table>\n",
       "<p>356 rows × 2 columns</p>\n",
       "</div>"
      ],
      "text/plain": [
       "                       Height (meters)      \n",
       "                                  mean count\n",
       "nationality Position                        \n",
       "Albania     Defender          1.877500     4\n",
       "            Forward           1.895000     2\n",
       "            Goalkeeper        1.935000     2\n",
       "            Midfielder        1.827500     4\n",
       "Algeria     Defender          1.803333     6\n",
       "...                                ...   ...\n",
       "Zambia      Forward           1.745000     2\n",
       "            Midfielder        1.650000     1\n",
       "Zimbabwe    Defender          1.870000     1\n",
       "            Forward           1.770000     1\n",
       "            Midfielder        1.770000     1\n",
       "\n",
       "[356 rows x 2 columns]"
      ]
     },
     "execution_count": 26,
     "metadata": {},
     "output_type": "execute_result"
    }
   ],
   "source": [
    "grouping = data1.groupby(['nationality','Position']).agg({'Height (meters)':['mean','count']})\n",
    "grouping"
   ]
  },
  {
   "cell_type": "code",
   "execution_count": 27,
   "metadata": {},
   "outputs": [],
   "source": [
    "data2 = data1.copy()"
   ]
  },
  {
   "cell_type": "code",
   "execution_count": 28,
   "metadata": {},
   "outputs": [
    {
     "name": "stderr",
     "output_type": "stream",
     "text": [
      "<ipython-input-28-baeefdbdd534>:10: SettingWithCopyWarning: \n",
      "A value is trying to be set on a copy of a slice from a DataFrame\n",
      "\n",
      "See the caveats in the documentation: https://pandas.pydata.org/pandas-docs/stable/user_guide/indexing.html#returning-a-view-versus-a-copy\n",
      "  data2['Height (meters)'][index] = new_height\n",
      "<ipython-input-28-baeefdbdd534>:7: SettingWithCopyWarning: \n",
      "A value is trying to be set on a copy of a slice from a DataFrame\n",
      "\n",
      "See the caveats in the documentation: https://pandas.pydata.org/pandas-docs/stable/user_guide/indexing.html#returning-a-view-versus-a-copy\n",
      "  data2['Height (meters)'][index] =  new_height  # Replace with the average of position, nationality value\n"
     ]
    }
   ],
   "source": [
    "for index, height in enumerate(data1['Height (meters)']):\n",
    "    if( np.isnan(height) ):\n",
    "        nationality = data2['nationality'][index]\n",
    "        position = data2['Position'][index]\n",
    "        if(position != 'Unknown'):\n",
    "            new_height = round(grouping.loc[nationality].loc[position][0], 2)   \n",
    "            data2['Height (meters)'][index] =  new_height  # Replace with the average of position, nationality value\n",
    "        else:\n",
    "            new_height = round(data1.groupby('nationality').mean().loc[nationality]['Height (meters)'], 2)\n",
    "            data2['Height (meters)'][index] = new_height"
   ]
  },
  {
   "cell_type": "markdown",
   "metadata": {},
   "source": [
    "#### In the previous way we filled the empty height values based on the player's average nationality height and when the player's position was known we took also that info into consideration."
   ]
  },
  {
   "cell_type": "code",
   "execution_count": 29,
   "metadata": {},
   "outputs": [
    {
     "data": {
      "text/plain": [
       "count    4308.000000\n",
       "mean        1.825940\n",
       "std         0.065942\n",
       "min         1.590000\n",
       "25%         1.780000\n",
       "50%         1.830000\n",
       "75%         1.870000\n",
       "max         2.040000\n",
       "Name: Height (meters), dtype: float64"
      ]
     },
     "execution_count": 29,
     "metadata": {},
     "output_type": "execute_result"
    }
   ],
   "source": [
    "data2['Height (meters)'].describe()"
   ]
  },
  {
   "cell_type": "markdown",
   "metadata": {},
   "source": [
    "### We'll extract only the data that we'll need"
   ]
  },
  {
   "cell_type": "code",
   "execution_count": 30,
   "metadata": {},
   "outputs": [
    {
     "name": "stderr",
     "output_type": "stream",
     "text": [
      "c:\\users\\dionisis\\appdata\\local\\programs\\python\\python39\\lib\\site-packages\\pandas\\core\\frame.py:4300: SettingWithCopyWarning: \n",
      "A value is trying to be set on a copy of a slice from a DataFrame\n",
      "\n",
      "See the caveats in the documentation: https://pandas.pydata.org/pandas-docs/stable/user_guide/indexing.html#returning-a-view-versus-a-copy\n",
      "  return super().rename(\n"
     ]
    }
   ],
   "source": [
    "Features = ['PlayerName', 'League', 'Age', 'Height (meters)', 'Position', 'Position 2', 'Foot', 'Agent', 'nationality',\n",
    "    'Games Played', 'Market Value (Euros)', 'Highest Market Value (Euros)', 'NationalTeamCaps', 'Age of pick']\n",
    "X = data2[Features]\n",
    "X.rename(columns={'nationality':'Nationality'}, inplace = True)"
   ]
  },
  {
   "cell_type": "code",
   "execution_count": 31,
   "metadata": {},
   "outputs": [
    {
     "data": {
      "text/html": [
       "<div>\n",
       "<style scoped>\n",
       "    .dataframe tbody tr th:only-of-type {\n",
       "        vertical-align: middle;\n",
       "    }\n",
       "\n",
       "    .dataframe tbody tr th {\n",
       "        vertical-align: top;\n",
       "    }\n",
       "\n",
       "    .dataframe thead th {\n",
       "        text-align: right;\n",
       "    }\n",
       "</style>\n",
       "<table border=\"1\" class=\"dataframe\">\n",
       "  <thead>\n",
       "    <tr style=\"text-align: right;\">\n",
       "      <th></th>\n",
       "      <th>PlayerName</th>\n",
       "      <th>League</th>\n",
       "      <th>Age</th>\n",
       "      <th>Height (meters)</th>\n",
       "      <th>Position</th>\n",
       "      <th>Position 2</th>\n",
       "      <th>Foot</th>\n",
       "      <th>Agent</th>\n",
       "      <th>Nationality</th>\n",
       "      <th>Games Played</th>\n",
       "      <th>Market Value (Euros)</th>\n",
       "      <th>Highest Market Value (Euros)</th>\n",
       "      <th>NationalTeamCaps</th>\n",
       "      <th>Age of pick</th>\n",
       "    </tr>\n",
       "  </thead>\n",
       "  <tbody>\n",
       "    <tr>\n",
       "      <th>0</th>\n",
       "      <td>Anthony Modeste</td>\n",
       "      <td>Bundesliga</td>\n",
       "      <td>31</td>\n",
       "      <td>1.87</td>\n",
       "      <td>Forward</td>\n",
       "      <td>Centre-Forward</td>\n",
       "      <td>right</td>\n",
       "      <td>NaN</td>\n",
       "      <td>France</td>\n",
       "      <td>1</td>\n",
       "      <td>7000000.0</td>\n",
       "      <td>20000000.0</td>\n",
       "      <td>16</td>\n",
       "      <td>29</td>\n",
       "    </tr>\n",
       "    <tr>\n",
       "      <th>1</th>\n",
       "      <td>Benno Schmitz</td>\n",
       "      <td>Bundesliga</td>\n",
       "      <td>25</td>\n",
       "      <td>1.82</td>\n",
       "      <td>Defender</td>\n",
       "      <td>Right-Back</td>\n",
       "      <td>right</td>\n",
       "      <td>Kögl &amp; Partner GmbH</td>\n",
       "      <td>Germany</td>\n",
       "      <td>0</td>\n",
       "      <td>1000000.0</td>\n",
       "      <td>1750000.0</td>\n",
       "      <td>11</td>\n",
       "      <td>23</td>\n",
       "    </tr>\n",
       "    <tr>\n",
       "      <th>2</th>\n",
       "      <td>Birger Verstraete</td>\n",
       "      <td>Bundesliga</td>\n",
       "      <td>25</td>\n",
       "      <td>1.75</td>\n",
       "      <td>Midfielder</td>\n",
       "      <td>Defensive-Midfield</td>\n",
       "      <td>right</td>\n",
       "      <td>SportPlus Football ...</td>\n",
       "      <td>Belgium</td>\n",
       "      <td>0</td>\n",
       "      <td>4000000.0</td>\n",
       "      <td>4000000.0</td>\n",
       "      <td>1</td>\n",
       "      <td>24</td>\n",
       "    </tr>\n",
       "    <tr>\n",
       "      <th>3</th>\n",
       "      <td>Brady Scott</td>\n",
       "      <td>Bundesliga</td>\n",
       "      <td>20</td>\n",
       "      <td>1.87</td>\n",
       "      <td>Goalkeeper</td>\n",
       "      <td>Goalkeeper</td>\n",
       "      <td>right</td>\n",
       "      <td>PRO FC</td>\n",
       "      <td>United States</td>\n",
       "      <td>14</td>\n",
       "      <td>100000.0</td>\n",
       "      <td>100000.0</td>\n",
       "      <td>0</td>\n",
       "      <td>19</td>\n",
       "    </tr>\n",
       "    <tr>\n",
       "      <th>4</th>\n",
       "      <td>Christian Clemens</td>\n",
       "      <td>Bundesliga</td>\n",
       "      <td>28</td>\n",
       "      <td>1.79</td>\n",
       "      <td>Midfielder</td>\n",
       "      <td>Right-Midfield</td>\n",
       "      <td>right</td>\n",
       "      <td>DC International ...</td>\n",
       "      <td>Germany</td>\n",
       "      <td>15</td>\n",
       "      <td>1750000.0</td>\n",
       "      <td>3500000.0</td>\n",
       "      <td>5</td>\n",
       "      <td>22</td>\n",
       "    </tr>\n",
       "  </tbody>\n",
       "</table>\n",
       "</div>"
      ],
      "text/plain": [
       "          PlayerName      League  Age  Height (meters)    Position  \\\n",
       "0    Anthony Modeste  Bundesliga   31             1.87     Forward   \n",
       "1      Benno Schmitz  Bundesliga   25             1.82    Defender   \n",
       "2  Birger Verstraete  Bundesliga   25             1.75  Midfielder   \n",
       "3        Brady Scott  Bundesliga   20             1.87  Goalkeeper   \n",
       "4  Christian Clemens  Bundesliga   28             1.79  Midfielder   \n",
       "\n",
       "           Position 2   Foot                   Agent    Nationality  \\\n",
       "0      Centre-Forward  right                     NaN         France   \n",
       "1          Right-Back  right     Kögl & Partner GmbH        Germany   \n",
       "2  Defensive-Midfield  right  SportPlus Football ...        Belgium   \n",
       "3          Goalkeeper  right                  PRO FC  United States   \n",
       "4      Right-Midfield  right    DC International ...        Germany   \n",
       "\n",
       "   Games Played  Market Value (Euros)  Highest Market Value (Euros)  \\\n",
       "0             1             7000000.0                    20000000.0   \n",
       "1             0             1000000.0                     1750000.0   \n",
       "2             0             4000000.0                     4000000.0   \n",
       "3            14              100000.0                      100000.0   \n",
       "4            15             1750000.0                     3500000.0   \n",
       "\n",
       "   NationalTeamCaps  Age of pick  \n",
       "0                16           29  \n",
       "1                11           23  \n",
       "2                 1           24  \n",
       "3                 0           19  \n",
       "4                 5           22  "
      ]
     },
     "execution_count": 31,
     "metadata": {},
     "output_type": "execute_result"
    }
   ],
   "source": [
    "X.head()"
   ]
  },
  {
   "cell_type": "code",
   "execution_count": 32,
   "metadata": {},
   "outputs": [
    {
     "name": "stdout",
     "output_type": "stream",
     "text": [
      "<class 'pandas.core.frame.DataFrame'>\n",
      "RangeIndex: 4308 entries, 0 to 4307\n",
      "Data columns (total 14 columns):\n",
      " #   Column                        Non-Null Count  Dtype  \n",
      "---  ------                        --------------  -----  \n",
      " 0   PlayerName                    4308 non-null   object \n",
      " 1   League                        4308 non-null   object \n",
      " 2   Age                           4308 non-null   int64  \n",
      " 3   Height (meters)               4308 non-null   float64\n",
      " 4   Position                      4308 non-null   object \n",
      " 5   Position 2                    4308 non-null   object \n",
      " 6   Foot                          4098 non-null   object \n",
      " 7   Agent                         3619 non-null   object \n",
      " 8   Nationality                   4308 non-null   object \n",
      " 9   Games Played                  4308 non-null   int64  \n",
      " 10  Market Value (Euros)          4289 non-null   float64\n",
      " 11  Highest Market Value (Euros)  4091 non-null   float64\n",
      " 12  NationalTeamCaps              4308 non-null   int64  \n",
      " 13  Age of pick                   4308 non-null   int64  \n",
      "dtypes: float64(3), int64(4), object(7)\n",
      "memory usage: 471.3+ KB\n"
     ]
    }
   ],
   "source": [
    "X.info()"
   ]
  },
  {
   "cell_type": "markdown",
   "metadata": {},
   "source": [
    "### Some insights on our data"
   ]
  },
  {
   "cell_type": "markdown",
   "metadata": {},
   "source": [
    "#### Bellow we can see that most of the players sign their largest career contract at the age of 22"
   ]
  },
  {
   "cell_type": "code",
   "execution_count": 33,
   "metadata": {},
   "outputs": [
    {
     "data": {
      "text/plain": [
       "(13.0, 36.0)"
      ]
     },
     "execution_count": 33,
     "metadata": {},
     "output_type": "execute_result"
    },
    {
     "data": {
      "image/png": "[encoded data removed]",
      "text/plain": [
       "<Figure size 648x432 with 1 Axes>"
      ]
     },
     "metadata": {
      "needs_background": "light"
     },
     "output_type": "display_data"
    }
   ],
   "source": [
    "pickAge = X['Age of pick'].replace(0,np.NaN)\n",
    "binNum = np.linspace(int(min(pickAge)),int(max(pickAge)), num = int(max(pickAge)-min(pickAge)) + 1)\n",
    "\n",
    "plt.figure(figsize=(9,6))\n",
    "plt.hist(pickAge, bins = binNum, color = 'maroon', ec='black')\n",
    "plt.xlabel('Age of pick',fontsize = 12)\n",
    "plt.ylabel('# of Players',fontsize = 12)\n",
    "plt.xlim(13,36)"
   ]
  },
  {
   "cell_type": "code",
   "execution_count": 34,
   "metadata": {},
   "outputs": [
    {
     "name": "stderr",
     "output_type": "stream",
     "text": [
      "c:\\users\\dionisis\\appdata\\local\\programs\\python\\python39\\lib\\site-packages\\pandas\\core\\series.py:4529: SettingWithCopyWarning: \n",
      "A value is trying to be set on a copy of a slice from a DataFrame\n",
      "\n",
      "See the caveats in the documentation: https://pandas.pydata.org/pandas-docs/stable/user_guide/indexing.html#returning-a-view-versus-a-copy\n",
      "  return super().fillna(\n",
      "c:\\users\\dionisis\\appdata\\local\\programs\\python\\python39\\lib\\site-packages\\pandas\\core\\series.py:4575: SettingWithCopyWarning: \n",
      "A value is trying to be set on a copy of a slice from a DataFrame\n",
      "\n",
      "See the caveats in the documentation: https://pandas.pydata.org/pandas-docs/stable/user_guide/indexing.html#returning-a-view-versus-a-copy\n",
      "  return super().replace(\n"
     ]
    }
   ],
   "source": [
    "X['Foot'].fillna('Unknown',inplace = True)\n",
    "X['Foot'].replace('-','Unknown',inplace = True)"
   ]
  },
  {
   "cell_type": "code",
   "execution_count": 35,
   "metadata": {},
   "outputs": [],
   "source": [
    "X1 = X.groupby(['Position 2','Foot']).size().to_frame()"
   ]
  },
  {
   "cell_type": "code",
   "execution_count": 36,
   "metadata": {},
   "outputs": [],
   "source": [
    "X1.rename(columns={0:'Count'}, inplace = True)\n",
    "\n",
    "X1.reset_index(inplace = True)"
   ]
  },
  {
   "cell_type": "code",
   "execution_count": 37,
   "metadata": {},
   "outputs": [
    {
     "data": {
      "image/png": "[encoded data removed]",
      "text/plain": [
       "<Figure size 1080x504 with 1 Axes>"
      ]
     },
     "metadata": {
      "needs_background": "light"
     },
     "output_type": "display_data"
    }
   ],
   "source": [
    "mask = X1['Position 2'].isin(['Unknown', 'Forward', 'Midfielder'])\n",
    "\n",
    "fig, ax = plt.subplots(figsize=(15,7))\n",
    "plt.xlabel('Player Position', fontsize=12)\n",
    "plt.ylabel('Count', fontsize=12)\n",
    "plt.xticks(rotation = 90)\n",
    "ax = sns.barplot(x = 'Position 2', y = 'Count', hue = 'Foot', data = X1[~mask])"
   ]
  },
  {
   "cell_type": "markdown",
   "metadata": {},
   "source": [
    "#### As we can see from the above diagram, in some player's positions there is a big gap in the number between left and right footed. In these cases we can replace the unknown foot values with the most frequent option in the exact position"
   ]
  },
  {
   "cell_type": "code",
   "execution_count": 38,
   "metadata": {},
   "outputs": [
    {
     "data": {
      "text/plain": [
       "right      2888\n",
       "left       1004\n",
       "Unknown     216\n",
       "both        200\n",
       "Name: Foot, dtype: int64"
      ]
     },
     "execution_count": 38,
     "metadata": {},
     "output_type": "execute_result"
    }
   ],
   "source": [
    "X['Foot'].value_counts()"
   ]
  },
  {
   "cell_type": "markdown",
   "metadata": {},
   "source": [
    "#### We will replace the unknown values of foot for the: left and right back (where is the biggest gap)"
   ]
  },
  {
   "cell_type": "code",
   "execution_count": 39,
   "metadata": {},
   "outputs": [
    {
     "name": "stderr",
     "output_type": "stream",
     "text": [
      "c:\\users\\dionisis\\appdata\\local\\programs\\python\\python39\\lib\\site-packages\\pandas\\core\\indexing.py:1763: SettingWithCopyWarning: \n",
      "A value is trying to be set on a copy of a slice from a DataFrame.\n",
      "Try using .loc[row_indexer,col_indexer] = value instead\n",
      "\n",
      "See the caveats in the documentation: https://pandas.pydata.org/pandas-docs/stable/user_guide/indexing.html#returning-a-view-versus-a-copy\n",
      "  isetter(loc, value)\n"
     ]
    }
   ],
   "source": [
    "# left back → left foot, right back → right foot\n",
    "\n",
    "mask = (X['Foot'] == 'Unknown') & (X['Position 2'] == 'Left-Back')\n",
    "X.loc[mask, 'Foot'] = 'left'\n",
    "\n",
    "mask = (X['Foot'] == 'Unknown') & (X['Position 2'] == 'Right-Back')\n",
    "X.loc[mask, 'Foot'] = 'right'"
   ]
  },
  {
   "cell_type": "code",
   "execution_count": 40,
   "metadata": {},
   "outputs": [
    {
     "data": {
      "text/plain": [
       "right      2904\n",
       "left       1011\n",
       "both        200\n",
       "Unknown     193\n",
       "Name: Foot, dtype: int64"
      ]
     },
     "execution_count": 40,
     "metadata": {},
     "output_type": "execute_result"
    }
   ],
   "source": [
    "X['Foot'].value_counts()"
   ]
  },
  {
   "cell_type": "markdown",
   "metadata": {},
   "source": [
    "### Hypothesis testing "
   ]
  },
  {
   "cell_type": "markdown",
   "metadata": {},
   "source": [
    "* One hypothesis we could make is whether it is normal for a team consisted of 24 players to have 8 or more left – footed.\n",
    "* One other hypothesis could be whether a team consisted of young players will have more profits from sales in the future.\n",
    "* A last hypothesis could be if picking 10 players of 26 years old, how possibly is it for all of them to have already signed their biggest contract.   "
   ]
  },
  {
   "cell_type": "markdown",
   "metadata": {},
   "source": [
    "#### In our hypothesis testing we will experiment with the 'Foot' data. \n",
    "#### Let's say that one team of 26 players is consisted of 8 left-foot players. We will examine whether or not this is unnormal "
   ]
  },
  {
   "cell_type": "code",
   "execution_count": 41,
   "metadata": {},
   "outputs": [
    {
     "data": {
      "text/plain": [
       "0.258"
      ]
     },
     "execution_count": 41,
     "metadata": {},
     "output_type": "execute_result"
    }
   ],
   "source": [
    "# Let's first calculate for a randomly picked player to be left-footed - excluding those who can use both feet\n",
    "\n",
    "left = X[X['Foot'] == 'left']['Foot'].value_counts()[0]\n",
    "total = X[X['Foot'] == 'right']['Foot'].value_counts()[0] + left\n",
    "\n",
    "p = round(left / total, 3)\n",
    "p"
   ]
  },
  {
   "cell_type": "markdown",
   "metadata": {},
   "source": [
    "#### Since we have only two possible outcomes – one with possibility p (left footed) and one with possibility 1-p (right footed), we could use the binomial distribution."
   ]
  },
  {
   "cell_type": "code",
   "execution_count": 42,
   "metadata": {},
   "outputs": [
    {
     "data": {
      "text/plain": [
       "0.34975366182966083"
      ]
     },
     "execution_count": 42,
     "metadata": {},
     "output_type": "execute_result"
    }
   ],
   "source": [
    "from scipy.stats import binom\n",
    "\n",
    "1 - binom.cdf(7, 26, p)"
   ]
  },
  {
   "cell_type": "markdown",
   "metadata": {},
   "source": [
    "#### The probability for a team to have 8 or more left- footed players is about 34%. This is more than 5%, so we can't reject the null and conclude that this fact is rational."
   ]
  },
  {
   "cell_type": "code",
   "execution_count": 43,
   "metadata": {},
   "outputs": [
    {
     "data": {
      "text/plain": [
       "11.0"
      ]
     },
     "execution_count": 43,
     "metadata": {},
     "output_type": "execute_result"
    }
   ],
   "source": [
    "binom.ppf(0.95, 26, p) + 1"
   ]
  },
  {
   "cell_type": "markdown",
   "metadata": {},
   "source": [
    "#### On the other hand if a team had 11 or more left-footed players then we could say that this is abnormal with 95% confidence level"
   ]
  }
 ],
 "metadata": {
  "kernelspec": {
   "display_name": "Python 3",
   "language": "python",
   "name": "python3"
  },
  "language_info": {
   "codemirror_mode": {
    "name": "ipython",
    "version": 3
   },
   "file_extension": ".py",
   "mimetype": "text/x-python",
   "name": "python",
   "nbconvert_exporter": "python",
   "pygments_lexer": "ipython3",
   "version": "3.8.0"
  }
 },
 "nbformat": 4,
 "nbformat_minor": 4
}
